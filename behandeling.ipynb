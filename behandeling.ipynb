{
 "cells": [
  {
   "cell_type": "markdown",
   "metadata": {},
   "source": [
    "# Verdiepende casus\n",
    "In mijn verdiepende casus ga ik kijken of een behandeling effectief gaat zijn aan de hand van afbeelding van tumoren. <Br>\n",
    "Mijn data bestaat uit ROI van 512 x 512 met een kleuring of een specifieke cel kleuring zoals CD8+ of PCK. <Br>\n",
    "Dezelfde ROI heeft meerdere kleuringen, zoals een DAPI kleuring CD8+ en segmentation. <Br>\n",
    "Deze ga ik alle 3 overlayen om zo de AI te trainen om in het vervolg zelf de CD8 cellen eruit te halen. <br>\n",
    "IK weet nog niet hoe precies ik dat ga doen. <br>\n",
    "De DAPI layer wordt gebruikt om nuclei te locaten <Br>\n",
    "De CD8 layer om te zeggen welke nuclei bij CD8 hoort op basis van intensiteit van het signal <br>\n",
    "De segmentation of duidelijke te maken waar de celgrenzen zijn en een outline te geven, blauw op zwart <br>\n",
    "hiervoor ga ik Convolutional Neural Network (CNN) gebruiken <Br> \n",
    "test <br>"
   ]
  }
 ],
 "metadata": {
  "language_info": {
   "name": "python"
  }
 },
 "nbformat": 4,
 "nbformat_minor": 2
}
